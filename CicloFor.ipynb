{
 "cells": [
  {
   "cell_type": "markdown",
   "id": "64c01f7d-c0da-4181-be7a-2706d24c2cf6",
   "metadata": {},
   "source": [
    "# ESTRUCTURA DE CONTROL REPETITIVA :  CICLO FOR "
   ]
  },
  {
   "cell_type": "markdown",
   "id": "e31b17b0-01e6-4399-bd61-974a9bd3cb35",
   "metadata": {},
   "source": [
    "## DEFINICION\n",
    "El ciclo for es una estructura de control iterativa que permite ejecutar un bloque de instrucciones un número determinado de veces. Se utiliza cuando se conoce de antemano la cantidad de iteraciones necesarias. Su sintaxis varía según el lenguaje, pero conceptualmente se basa en tres componentes:\n",
    "\n",
    "**1. Inicialización: se establece una variable de control.**\n",
    "**2. Condición: se evalúa antes de cada iteración.**\n",
    "**3. Actualización: se modifica la variable de control al final de cada ciclo.**\n",
    "En lenguajes como Python, el for itera sobre secuencias (listas, rangos, cadenas), mientras que en C/C++ o Java, se usa una forma más explícita con los tres componentes mencionados."
   ]
  },
  {
   "cell_type": "markdown",
   "id": "13539c5f-d6e6-4c18-9f1d-a0c932f07625",
   "metadata": {},
   "source": [
    "## CASOS DE USO\n",
    "- Procesamiento de datos en lotes: recorrer registros de una base de datos para aplicar transformaciones o validaciones.\n",
    "- Automatización de tareas repetitivas: como generar reportes mensuales, enviar correos o crear archivos.\n",
    "- Simulación de escenarios: en ingeniería o economía, para modelar comportamientos bajo diferentes parámetros.\n",
    "- Control de hardware: en sistemas embebidos, para enviar señales a sensores o actuadores en intervalos definidos.\n",
    "- Análisis de imágenes o señales: recorrer píxeles o muestras para aplicar filtros o transformaciones."
   ]
  },
  {
   "cell_type": "markdown",
   "id": "398f0080-6a63-44d4-9867-166b9133333d",
   "metadata": {},
   "source": [
    "## CASOS PRÁCTICOS"
   ]
  },
  {
   "cell_type": "markdown",
   "id": "a160497f-cd24-452a-b972-516f7b129e11",
   "metadata": {},
   "source": [
    "## Ejecicio 0"
   ]
  },
  {
   "cell_type": "markdown",
   "id": "f3bd362b-b623-4468-a0d5-66593e6e0626",
   "metadata": {},
   "source": [
    "## Ejercicio: Contar cuántas letras tiene cada palabra en una lista de comandos mágicos"
   ]
  },
  {
   "cell_type": "markdown",
   "id": "fe1736ba-8408-4716-ae73-890305bc6451",
   "metadata": {},
   "source": [
    "## PSEINT 0 \n",
    "Proceso Contar_Letras_Comandos\n",
    "    Definir comandos Como Cadena\n",
    "    Dimension comandos[3]\n",
    "    comandos[0] <- \"Abracadabra\"\n",
    "    comandos[1] <- \"Expelliarmus\"\n",
    "    comandos[2] <- \"Wingardium\"\n",
    "\n",
    "    Para i <- 0 Hasta 2 Con Paso 1 Hacer\n",
    "        Escribir \"Comando \", i+1, \": \", comandos[i], \" tiene \", Longitud(comandos[i]), \" letras.\"\n",
    "    FinPara\n",
    "FinProceso\n"
   ]
  },
  {
   "cell_type": "markdown",
   "id": "0c444b7c-1a42-4865-b95d-448e616122f3",
   "metadata": {},
   "source": [
    "## ¿Por qué se usa i?\n",
    "- i viene del inglés index o iterator.\n",
    "- Es una variable de control que representa la posición actual en una lista o secuencia.\n",
    "- Se usa por convención, pero puede tener cualquier nombre (indice, contador, etc.).\n",
    "## ¿Qué es un iterador?\n",
    "Un iterador es una variable que controla el número de veces que se repite un ciclo. En un ciclo for, el iterador:\n",
    "\n",
    "- Toma un valor inicial.\n",
    "- Se incrementa en cada vuelta.\n",
    "- Se detiene cuando se cumple una condición.\n",
    "- En el ejemplo anterior, i es el iterador que recorre los índices de la lista comandos.\n",
    "\n",
    "## ¿Qué es un ciclo?\n",
    "Un ciclo (o bucle) es una estructura de control que permite repetir un bloque de instrucciones múltiples veces, de forma automática.\n",
    "\n",
    "**Tipos comunes:**\n",
    "- Para (for): cuando se conoce cuántas veces se debe repetir.\n",
    "- Mientras (while): cuando no se sabe cuántas veces, pero hay una condición.\n",
    "- Repetir...Hasta (do...while): se ejecuta al menos una vez.\n",
    "Ejemplo:\n",
    "**Un ciclo es una herramienta que permite automatizar tareas repetitivas, como recorrer listas, contar elementos o realizar cálculos múltiples sin escribir el mismo código muchas veces.**\n",
    "\n",
    "## ¿Es [ ] una matriz o un arreglo?\n",
    "En PSeInt y muchos lenguajes de programación:\n",
    "\n",
    "[ ] representa una estructura de datos indexada.\n",
    "Puede ser un arreglo (array) o una matriz, dependiendo de las dimensiones.\n",
    "🔹 Arreglo (array):\n",
    "Es unidimensional.\n",
    "Ejemplo: temperaturas[6] → contiene 6 valores en una sola fila.\n",
    "🔹 Matriz:\n",
    "Es bidimensional (filas y columnas).\n",
    "Ejemplo: matriz[3,4] → 3 filas y 4 columnas."
   ]
  },
  {
   "cell_type": "code",
   "execution_count": 3,
   "id": "4e98ac25-6705-480b-b6ae-56eca8c34eb8",
   "metadata": {},
   "outputs": [
    {
     "name": "stdout",
     "output_type": "stream",
     "text": [
      "Monitoreando vuelo #1 - Verificando altitud, velocidad y trayectoria...\n",
      "Monitoreando vuelo #2 - Verificando altitud, velocidad y trayectoria...\n",
      "Monitoreando vuelo #3 - Verificando altitud, velocidad y trayectoria...\n",
      "Monitoreando vuelo #4 - Verificando altitud, velocidad y trayectoria...\n",
      "Monitoreando vuelo #5 - Verificando altitud, velocidad y trayectoria...\n",
      "Monitoreando vuelo #6 - Verificando altitud, velocidad y trayectoria...\n",
      "Monitoreando vuelo #7 - Verificando altitud, velocidad y trayectoria...\n",
      "Monitoreando vuelo #8 - Verificando altitud, velocidad y trayectoria...\n",
      "Monitoreando vuelo #9 - Verificando altitud, velocidad y trayectoria...\n",
      "Monitoreando vuelo #10 - Verificando altitud, velocidad y trayectoria...\n"
     ]
    }
   ],
   "source": [
    "# Simula el monitoreo de 10 vuelos en tiempo real\n",
    "#Aplicación: sistemas de control aéreo que revisan periódicamente el estado de cada aeronave.\n",
    "for vuelo_id in range(1, 11):\n",
    "    print(f\"Monitoreando vuelo #{vuelo_id} - Verificando altitud, velocidad y trayectoria...\")\n"
   ]
  },
  {
   "cell_type": "markdown",
   "id": "7df57802-7a91-448e-a032-fc619efa8d74",
   "metadata": {},
   "source": [
    "## PSEINT 1\n",
    "Proceso Simulacion_Trafico_Aereo\n",
    "    Para vuelo_id <- 1 Hasta 10 Con Paso 1 Hacer\n",
    "        Escribir \"Monitoreando vuelo #\", vuelo_id, \" - Verificando altitud, velocidad y trayectoria...\"\n",
    "    FinPara\n",
    "FinProceso\n"
   ]
  },
  {
   "cell_type": "code",
   "execution_count": null,
   "id": "50ea3197-bd6c-4ea2-8e59-6a3a86310e16",
   "metadata": {},
   "outputs": [],
   "source": [
    "#Generación de certificados digitales personalizados\n",
    "#Aplicación: automatización en eventos académicos o corporativos.\n",
    "nombres = [\"Ana\", \"Luis\", \"Carlos\", \"María\"]\n",
    "for nombre in nombres:\n",
    "    print(f\"Generando certificado para: {nombre}\")\n"
   ]
  },
  {
   "cell_type": "markdown",
   "id": "999545ba-9d17-4490-83d4-edcfad66be17",
   "metadata": {},
   "source": [
    "# PSEINT 2\n",
    "Proceso Generar_Certificados\n",
    "    Definir nombres Como Cadena\n",
    "    Dimension nombres[4]\n",
    "    nombres[0] <- \"Ana\"\n",
    "    nombres[1] <- \"Luis\"\n",
    "    nombres[2] <- \"Carlos\"\n",
    "    nombres[3] <- \"María\"\n",
    "\n",
    "    Para i <- 0 Hasta 3 Con Paso 1 Hacer\n",
    "        Escribir \"Generando certificado para: \", nombres[i]\n",
    "    FinPara\n",
    "FinProceso\n"
   ]
  },
  {
   "cell_type": "code",
   "execution_count": null,
   "id": "90158920-5c8f-444f-b65e-ce3d313e94f1",
   "metadata": {},
   "outputs": [],
   "source": [
    "#Análisis de rendimiento de servidores\n",
    "#Aplicación: monitoreo de infraestructura en tiempo real.\n",
    "servidores = [\"192.168.1.1\", \"192.168.1.2\", \"192.168.1.3\"]\n",
    "for ip in servidores:\n",
    "    print(f\"Consultando uso de CPU en el servidor {ip}...\")\n"
   ]
  },
  {
   "cell_type": "markdown",
   "id": "1a27fc20-d5fd-4a94-8045-881211fe252f",
   "metadata": {},
   "source": [
    "# PSEINT 3\n",
    "Proceso Analisis_Servidores\n",
    "    Definir servidores Como Cadena\n",
    "    Dimension servidores[3]\n",
    "    servidores[0] <- \"192.168.1.1\"\n",
    "    servidores[1] <- \"192.168.1.2\"\n",
    "    servidores[2] <- \"192.168.1.3\"\n",
    "\n",
    "    Para i <- 0 Hasta 2 Con Paso 1 Hacer\n",
    "        Escribir \"Consultando uso de CPU en el servidor \", servidores[i], \"...\"\n",
    "    FinPara\n",
    "FinProceso\n"
   ]
  },
  {
   "cell_type": "code",
   "execution_count": null,
   "id": "4d536450-5a8d-4354-a118-e9531ca98a4d",
   "metadata": {},
   "outputs": [],
   "source": [
    "#Silulacion de inversion financiera\n",
    "#Aplicación: proyecciones financieras en banca o consultoría.\n",
    "capital_inicial = 10000\n",
    "tasa_interes = 0.05\n",
    "for año in range(1, 6):\n",
    "    capital_inicial *= (1 + tasa_interes)\n",
    "    print(f\"Año {año}: Capital acumulado = ${capital_inicial:.2f}\")\n"
   ]
  },
  {
   "cell_type": "markdown",
   "id": "8ec9e492-501e-4562-85b7-66b3f3d53fff",
   "metadata": {},
   "source": [
    "# PSEINT 4\n",
    "Proceso Simulacion_Inversion\n",
    "    Definir capital_inicial, tasa_interes Como Real\n",
    "    Definir año Como Entero\n",
    "\n",
    "    capital_inicial <- 10000\n",
    "    tasa_interes <- 0.05\n",
    "\n",
    "    Para año <- 1 Hasta 5 Con Paso 1 Hacer\n",
    "        capital_inicial <- capital_inicial * (1 + tasa_interes)\n",
    "        Escribir \"Año \", año, \": Capital acumulado = $\", capital_inicial\n",
    "    FinPara\n",
    "FinProceso\n"
   ]
  },
  {
   "cell_type": "markdown",
   "id": "2775b1fe-5df2-4448-bcce-fd87c814d7f7",
   "metadata": {},
   "source": [
    "**Que hicimos aqui?**\n",
    "## capital_inicial = 10000\n",
    "Se define el capital con el que se inicia la inversión.\n",
    "\n",
    "## tasa_interes = 0.05\n",
    "Se define la tasa de interés anual (5%).\n",
    "\n",
    "## for año in range(1, 6):\n",
    "\n",
    "Se inicia un ciclo for que va desde el año 1 hasta el 5 (el range(1, 6) genera los valores 1, 2, 3, 4, 5).\n",
    "año es la variable de control que representa el año actual de la inversión.\n",
    "## capital_inicial *= (1 + tasa_interes)\n",
    "\n",
    "Se actualiza el capital aplicando interés compuesto:\n",
    "nuevo capital\n",
    "=\n",
    "capital anterior\n",
    "×\n",
    "(\n",
    "1\n",
    "+\n",
    "tasa\n",
    ")\n",
    "nuevo capital=capital anterior×(1+tasa)\n",
    "print(f\"Año {año}: Capital acumulado = ${capital_inicial:.2f}\")\n",
    "\n",
    "Se imprime el año y el capital acumulado, con dos decimales."
   ]
  },
  {
   "cell_type": "code",
   "execution_count": null,
   "id": "306b8a7d-5386-43d4-9367-346cdc198f63",
   "metadata": {},
   "outputs": [],
   "source": [
    "#Control de temperatura en un invernadero inteligente\n",
    "#Aplicación: agricultura de precisión con IoT.\n",
    "sensores = [22.5, 23.0, 21.8, 24.1]\n",
    "for temp in sensores:\n",
    "    if temp > 23.5:\n",
    "        print(f\"Temperatura {temp}°C alta. Activando ventilación.\")\n"
   ]
  },
  {
   "cell_type": "markdown",
   "id": "00077214-6352-4b83-8c6b-f3eaaf26e5b1",
   "metadata": {},
   "source": [
    "## PSEINT 5\n",
    "Proceso Control_Temperatura\n",
    "    Definir sensores Como Real\n",
    "    Dimension sensores[4]\n",
    "    sensores[0] <- 22.5\n",
    "    sensores[1] <- 23.0\n",
    "    sensores[2] <- 21.8\n",
    "    sensores[3] <- 24.1\n",
    "\n",
    "    Para i <- 0 Hasta 3 Con Paso 1 Hacer\n",
    "        Si sensores[i] > 23.5 Entonces\n",
    "            Escribir \"Temperatura \", sensores[i], \"°C alta. Activando ventilación.\"\n",
    "        FinSi\n",
    "    FinPara\n",
    "FinProceso\n"
   ]
  },
  {
   "cell_type": "markdown",
   "id": "58cddb7b-2a18-4748-9b3f-f7ddf8c0d877",
   "metadata": {},
   "source": [
    "## sensores = [22.5, 23.0, 21.8, 24.1]\n",
    "\n",
    "Lista de temperaturas medidas por sensores en diferentes zonas del invernadero.\n",
    "## for temp in sensores:\n",
    "\n",
    "Se recorre cada valor de temperatura en la lista.\n",
    "temp es la variable que toma el valor de cada elemento de la lista.\n",
    "## if temp > 23.5:\n",
    "\n",
    "Se evalúa si la temperatura supera el umbral de seguridad (23.5°C).\n",
    "## print(f\"Temperatura {temp}°C alta. Activando ventilación.\")\n",
    "\n",
    "Si la condición se cumple, se imprime una alerta indicando que se debe activar el sistema de ventilación."
   ]
  },
  {
   "cell_type": "markdown",
   "id": "e98909d4-9e24-49cc-947d-292c87f49d1a",
   "metadata": {},
   "source": [
    "# Reto de Programación: “Simulador de Invernadero Inteligente con Inversión Agrícola”"
   ]
  },
  {
   "cell_type": "markdown",
   "id": "24e69172-8540-471f-b563-3c39253399b6",
   "metadata": {},
   "source": [
    "## Simular un sistema que:\n",
    "- Monitorea temperaturas de sensores en un invernadero.\n",
    "- Calcula el rendimiento económico de una inversión agrícola basada en la producción esperada, que depende de mantener la temperatura óptima.\n",
    "## Objetivos\n",
    "- Aplicar el ciclo for.\n",
    "- Usar listas, condiciones y operaciones matemáticas.\n",
    "- Simular un escenario realista con lógica de programación.\n",
    "## Instrucciones\n",
    "**Crear una lista con 6 temperaturas simuladas (pueden ser aleatorias o fijas).**\n",
    "**Por cada temperatura:**\n",
    "- Si está entre 20°C y 24°C, se considera óptima y se suma una ganancia de $500.\n",
    "- Si está fuera de ese rango, se resta $200 por pérdida de producción.\n",
    "**Al final, mostrar:**\n",
    "- El número de sensores con temperatura óptima.\n",
    "- El capital final después de aplicar las ganancias/pérdidas a un capital inicial de $5000.\n",
    "**Ejemplo de salida esperada:** \n",
    "- Sensor 1: 22.1°C - Temperatura óptima. +$500\n",
    "- Sensor 2: 25.3°C - Temperatura fuera de rango. -$200\n",
    "...\n",
    "**Capital final: $5800**"
   ]
  }
 ],
 "metadata": {
  "kernelspec": {
   "display_name": "env",
   "language": "python",
   "name": "python3"
  },
  "language_info": {
   "codemirror_mode": {
    "name": "ipython",
    "version": 3
   },
   "file_extension": ".py",
   "mimetype": "text/x-python",
   "name": "python",
   "nbconvert_exporter": "python",
   "pygments_lexer": "ipython3",
   "version": "3.13.3"
  }
 },
 "nbformat": 4,
 "nbformat_minor": 5
}
